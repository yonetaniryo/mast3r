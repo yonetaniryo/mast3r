{
 "cells": [
  {
   "cell_type": "code",
   "execution_count": 2,
   "id": "a44dad0a-9be9-4556-b2d0-bf77235a49f2",
   "metadata": {},
   "outputs": [],
   "source": [
    "import mast3r.utils.path_to_dust3r\n",
    "\n",
    "from dust3r.image_pairs import make_pairs\n",
    "from dust3r.utils.image import load_images\n",
    "\n",
    "from mast3r.cloud_opt import sparse_ga\n",
    "from importlib import reload\n",
    "\n",
    "from glob import glob"
   ]
  },
  {
   "cell_type": "code",
   "execution_count": 6,
   "id": "dea3ab21-f730-4a0d-8409-965fa09bafb9",
   "metadata": {},
   "outputs": [
    {
     "name": "stdout",
     "output_type": "stream",
     "text": [
      "Warning, cannot find cuda-compiled version of RoPE2D, using a slow pytorch version instead\n"
     ]
    },
    {
     "name": "stderr",
     "output_type": "stream",
     "text": [
      "/home/yonetani_ryo/programs/mast3r/.venv/lib/python3.10/site-packages/tqdm/auto.py:21: TqdmWarning: IProgress not found. Please update jupyter and ipywidgets. See https://ipywidgets.readthedocs.io/en/stable/user_install.html\n",
      "  from .autonotebook import tqdm as notebook_tqdm\n"
     ]
    }
   ],
   "source": [
    "from mast3r.model import AsymmetricMASt3R\n",
    "model = AsymmetricMASt3R.from_pretrained(\"naver/MASt3R_ViTLarge_BaseDecoder_512_catmlpdpt_metric\")"
   ]
  },
  {
   "cell_type": "code",
   "execution_count": 3,
   "id": "acc3088e-43df-46e4-b6bc-a48994b53e51",
   "metadata": {},
   "outputs": [],
   "source": [
    "filelist = glob(\"../piggyback-camera/dataset/test/250219-081451_rgb_sfm/*.jpg\")\n",
    "filelist = filelist[:5]"
   ]
  },
  {
   "cell_type": "code",
   "execution_count": 4,
   "id": "2fd11196-f9e0-423a-aa2d-8f6024782079",
   "metadata": {},
   "outputs": [],
   "source": [
    "imgs = load_images(filelist, size=224, verbose=False)"
   ]
  },
  {
   "cell_type": "code",
   "execution_count": 5,
   "id": "c4a7aca7-8b98-4ea8-aefc-809f65a2f2ad",
   "metadata": {},
   "outputs": [],
   "source": [
    "pairs = make_pairs(imgs, prefilter=None, symmetrize=True)"
   ]
  },
  {
   "cell_type": "code",
   "execution_count": 9,
   "id": "3e1ba0d5-67af-46b4-b7cc-91fbee1121ba",
   "metadata": {},
   "outputs": [],
   "source": [
    "cache_dir=\"cache\""
   ]
  },
  {
   "cell_type": "code",
   "execution_count": 10,
   "id": "e310bf04-479f-4ce2-b862-31b3c7a91489",
   "metadata": {},
   "outputs": [
    {
     "name": "stderr",
     "output_type": "stream",
     "text": [
      "/home/yonetani_ryo/programs/mast3r/mast3r/cloud_opt/sparse_ga.py:582: FutureWarning: `torch.cuda.amp.autocast(args...)` is deprecated. Please use `torch.amp.autocast('cuda', args...)` instead.\n",
      "  with torch.cuda.amp.autocast(enabled=False):\n",
      " ... (more hidden) ...\n",
      " ... (more hidden) ...\n",
      "/home/yonetani_ryo/programs/mast3r/.venv/lib/python3.10/site-packages/torch/_compile.py:32: UserWarning: optimizer contains a parameter group with duplicate parameters; in future, this will cause an error; see github.com/pytorch/pytorch/issues/40967 for more information\n",
      "  return disable_fn(*args, **kwargs)\n"
     ]
    },
    {
     "name": "stdout",
     "output_type": "stream",
     "text": [
      "init focal (shared) =  287.72\n"
     ]
    },
    {
     "name": "stderr",
     "output_type": "stream",
     "text": [
      " ... (more hidden) ...\n"
     ]
    },
    {
     "name": "stdout",
     "output_type": "stream",
     "text": [
      ">> final loss = 0.06484068185091019\n"
     ]
    },
    {
     "name": "stderr",
     "output_type": "stream",
     "text": [
      " ... (more hidden) ..."
     ]
    },
    {
     "name": "stdout",
     "output_type": "stream",
     "text": [
      ">> final loss = 0.930112898349762\n",
      "Final focal (shared) =  286.67\n"
     ]
    },
    {
     "name": "stderr",
     "output_type": "stream",
     "text": [
      "\n"
     ]
    }
   ],
   "source": [
    "scene = sparse_ga.sparse_global_alignment(filelist, pairs, cache_dir, model, device=\"cpu\", opt_depth=False, shared_intrinsics=True)"
   ]
  },
  {
   "cell_type": "code",
   "execution_count": 12,
   "id": "f5f65dd5-2401-471d-a9bb-80f51080f409",
   "metadata": {},
   "outputs": [
    {
     "data": {
      "text/plain": [
       "torch.Size([5, 4, 4])"
      ]
     },
     "execution_count": 12,
     "metadata": {},
     "output_type": "execute_result"
    }
   ],
   "source": [
    "scene.cam2w.shape"
   ]
  },
  {
   "cell_type": "code",
   "execution_count": null,
   "id": "43c0601f-9581-4592-9d4a-abaaa4667b6b",
   "metadata": {},
   "outputs": [],
   "source": []
  }
 ],
 "metadata": {
  "kernelspec": {
   "display_name": "Python 3 (ipykernel)",
   "language": "python",
   "name": "python3"
  },
  "language_info": {
   "codemirror_mode": {
    "name": "ipython",
    "version": 3
   },
   "file_extension": ".py",
   "mimetype": "text/x-python",
   "name": "python",
   "nbconvert_exporter": "python",
   "pygments_lexer": "ipython3",
   "version": "3.10.12"
  }
 },
 "nbformat": 4,
 "nbformat_minor": 5
}
